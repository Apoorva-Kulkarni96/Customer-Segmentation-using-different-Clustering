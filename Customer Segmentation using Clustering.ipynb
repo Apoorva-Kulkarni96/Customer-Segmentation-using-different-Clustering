{
 "cells": [
  {
   "cell_type": "markdown",
   "id": "b78a1276",
   "metadata": {},
   "source": [
    "## Customer Segmentation using Clustering\n",
    "\n",
    "**OBJECTIVE**:\n",
    "\n",
    "Using various clustering methods, find customer's expenses based on their annual income.\n",
    "\n",
    "**About Dataset**\n",
    "\n",
    "The dataset is downloaded from Kaggle.com. \n",
    "\n",
    "The dataset has 200 entries and 5 features.\n",
    "\n",
    "**INDEX**\n",
    "\n",
    "* Import Libraries\n",
    "* Data Overview\n",
    "* Data Analysing\n",
    "* KMEANS Clustering\n",
    "* Hierarchical Agglomerative Clustering\n",
    "* DBSCAN\n",
    "* MiniBatch KMeans\n",
    "* Mean Shift\n",
    "* Conclusion\n",
    "\n"
   ]
  },
  {
   "cell_type": "markdown",
   "id": "6822b898",
   "metadata": {},
   "source": [
    "### Import Libraries"
   ]
  },
  {
   "cell_type": "code",
   "execution_count": 1,
   "id": "60004a70",
   "metadata": {},
   "outputs": [],
   "source": [
    "import numpy as np\n",
    "import pandas as pd\n",
    "import matplotlib.pyplot as plt\n",
    "import seaborn as sns\n",
    "import warnings\n",
    "warnings.filterwarnings('ignore')\n",
    "from sklearn.cluster import KMeans \n",
    "from sklearn.preprocessing import StandardScaler,LabelEncoder\n",
    "from sklearn.cluster import AgglomerativeClustering\n",
    "from numpy import unique\n",
    "from numpy import where\n",
    "from sklearn.cluster import DBSCAN, MiniBatchKMeans, MeanShift\n"
   ]
  },
  {
   "cell_type": "markdown",
   "id": "7ec88a72",
   "metadata": {},
   "source": [
    "### Data Overview\n",
    "\n",
    "The data set has 200 rows and 5 columns. Summary of Datatypes in datasets are\n",
    "\n",
    "\n",
    "* 4 int64\n",
    "* 1 object\n",
    "\n",
    "Columns and their respective datatypes are given below:\n",
    "                \n",
    "*   CustomerID             -> int64 \n",
    "*   Gender                 -> object\n",
    "*   Age                    -> int64 \n",
    "*   Annual Income (k$)     -> int64 \n",
    "*   Spending Score (1-100) -> int64 \n",
    "\n",
    "THERE ARE NO MISSING VALUES IN DATASET\n",
    "\n",
    "\n",
    "**READING DATASET**"
   ]
  },
  {
   "cell_type": "code",
   "execution_count": 2,
   "id": "4805ed67",
   "metadata": {},
   "outputs": [],
   "source": [
    "df=pd.read_csv(r'C:\\Users\\APOORVA\\Desktop\\MACHINE LEARNING\\IBM\\4) Unsupervised Machine Learning\\archive\\Mall_Customers.csv')"
   ]
  },
  {
   "cell_type": "code",
   "execution_count": 3,
   "id": "50192e5e",
   "metadata": {},
   "outputs": [
    {
     "data": {
      "text/html": [
       "<div>\n",
       "<style scoped>\n",
       "    .dataframe tbody tr th:only-of-type {\n",
       "        vertical-align: middle;\n",
       "    }\n",
       "\n",
       "    .dataframe tbody tr th {\n",
       "        vertical-align: top;\n",
       "    }\n",
       "\n",
       "    .dataframe thead th {\n",
       "        text-align: right;\n",
       "    }\n",
       "</style>\n",
       "<table border=\"1\" class=\"dataframe\">\n",
       "  <thead>\n",
       "    <tr style=\"text-align: right;\">\n",
       "      <th></th>\n",
       "      <th>CustomerID</th>\n",
       "      <th>Gender</th>\n",
       "      <th>Age</th>\n",
       "      <th>Annual Income (k$)</th>\n",
       "      <th>Spending Score (1-100)</th>\n",
       "    </tr>\n",
       "  </thead>\n",
       "  <tbody>\n",
       "    <tr>\n",
       "      <th>0</th>\n",
       "      <td>1</td>\n",
       "      <td>Male</td>\n",
       "      <td>19</td>\n",
       "      <td>15</td>\n",
       "      <td>39</td>\n",
       "    </tr>\n",
       "    <tr>\n",
       "      <th>1</th>\n",
       "      <td>2</td>\n",
       "      <td>Male</td>\n",
       "      <td>21</td>\n",
       "      <td>15</td>\n",
       "      <td>81</td>\n",
       "    </tr>\n",
       "    <tr>\n",
       "      <th>2</th>\n",
       "      <td>3</td>\n",
       "      <td>Female</td>\n",
       "      <td>20</td>\n",
       "      <td>16</td>\n",
       "      <td>6</td>\n",
       "    </tr>\n",
       "    <tr>\n",
       "      <th>3</th>\n",
       "      <td>4</td>\n",
       "      <td>Female</td>\n",
       "      <td>23</td>\n",
       "      <td>16</td>\n",
       "      <td>77</td>\n",
       "    </tr>\n",
       "    <tr>\n",
       "      <th>4</th>\n",
       "      <td>5</td>\n",
       "      <td>Female</td>\n",
       "      <td>31</td>\n",
       "      <td>17</td>\n",
       "      <td>40</td>\n",
       "    </tr>\n",
       "  </tbody>\n",
       "</table>\n",
       "</div>"
      ],
      "text/plain": [
       "   CustomerID  Gender  Age  Annual Income (k$)  Spending Score (1-100)\n",
       "0           1    Male   19                  15                      39\n",
       "1           2    Male   21                  15                      81\n",
       "2           3  Female   20                  16                       6\n",
       "3           4  Female   23                  16                      77\n",
       "4           5  Female   31                  17                      40"
      ]
     },
     "execution_count": 3,
     "metadata": {},
     "output_type": "execute_result"
    }
   ],
   "source": [
    "df.head()"
   ]
  },
  {
   "cell_type": "code",
   "execution_count": 4,
   "id": "01220231",
   "metadata": {},
   "outputs": [
    {
     "data": {
      "text/html": [
       "<div>\n",
       "<style scoped>\n",
       "    .dataframe tbody tr th:only-of-type {\n",
       "        vertical-align: middle;\n",
       "    }\n",
       "\n",
       "    .dataframe tbody tr th {\n",
       "        vertical-align: top;\n",
       "    }\n",
       "\n",
       "    .dataframe thead th {\n",
       "        text-align: right;\n",
       "    }\n",
       "</style>\n",
       "<table border=\"1\" class=\"dataframe\">\n",
       "  <thead>\n",
       "    <tr style=\"text-align: right;\">\n",
       "      <th></th>\n",
       "      <th>CustomerID</th>\n",
       "      <th>Gender</th>\n",
       "      <th>Age</th>\n",
       "      <th>Annual Income (k$)</th>\n",
       "      <th>Spending Score (1-100)</th>\n",
       "    </tr>\n",
       "  </thead>\n",
       "  <tbody>\n",
       "    <tr>\n",
       "      <th>195</th>\n",
       "      <td>196</td>\n",
       "      <td>Female</td>\n",
       "      <td>35</td>\n",
       "      <td>120</td>\n",
       "      <td>79</td>\n",
       "    </tr>\n",
       "    <tr>\n",
       "      <th>196</th>\n",
       "      <td>197</td>\n",
       "      <td>Female</td>\n",
       "      <td>45</td>\n",
       "      <td>126</td>\n",
       "      <td>28</td>\n",
       "    </tr>\n",
       "    <tr>\n",
       "      <th>197</th>\n",
       "      <td>198</td>\n",
       "      <td>Male</td>\n",
       "      <td>32</td>\n",
       "      <td>126</td>\n",
       "      <td>74</td>\n",
       "    </tr>\n",
       "    <tr>\n",
       "      <th>198</th>\n",
       "      <td>199</td>\n",
       "      <td>Male</td>\n",
       "      <td>32</td>\n",
       "      <td>137</td>\n",
       "      <td>18</td>\n",
       "    </tr>\n",
       "    <tr>\n",
       "      <th>199</th>\n",
       "      <td>200</td>\n",
       "      <td>Male</td>\n",
       "      <td>30</td>\n",
       "      <td>137</td>\n",
       "      <td>83</td>\n",
       "    </tr>\n",
       "  </tbody>\n",
       "</table>\n",
       "</div>"
      ],
      "text/plain": [
       "     CustomerID  Gender  Age  Annual Income (k$)  Spending Score (1-100)\n",
       "195         196  Female   35                 120                      79\n",
       "196         197  Female   45                 126                      28\n",
       "197         198    Male   32                 126                      74\n",
       "198         199    Male   32                 137                      18\n",
       "199         200    Male   30                 137                      83"
      ]
     },
     "execution_count": 4,
     "metadata": {},
     "output_type": "execute_result"
    }
   ],
   "source": [
    "df.tail()"
   ]
  },
  {
   "cell_type": "code",
   "execution_count": 5,
   "id": "ff688e96",
   "metadata": {},
   "outputs": [
    {
     "data": {
      "text/plain": [
       "(200, 5)"
      ]
     },
     "execution_count": 5,
     "metadata": {},
     "output_type": "execute_result"
    }
   ],
   "source": [
    "df.shape"
   ]
  },
  {
   "cell_type": "code",
   "execution_count": 6,
   "id": "722af4fa",
   "metadata": {},
   "outputs": [
    {
     "name": "stdout",
     "output_type": "stream",
     "text": [
      "Number of rows :  200\n",
      "Number of columns :  5\n"
     ]
    }
   ],
   "source": [
    "print(\"Number of rows : \",df.shape[0])\n",
    "print(\"Number of columns : \",df.shape[1])"
   ]
  },
  {
   "cell_type": "code",
   "execution_count": 7,
   "id": "bfbcd224",
   "metadata": {},
   "outputs": [
    {
     "name": "stdout",
     "output_type": "stream",
     "text": [
      "<class 'pandas.core.frame.DataFrame'>\n",
      "RangeIndex: 200 entries, 0 to 199\n",
      "Data columns (total 5 columns):\n",
      " #   Column                  Non-Null Count  Dtype \n",
      "---  ------                  --------------  ----- \n",
      " 0   CustomerID              200 non-null    int64 \n",
      " 1   Gender                  200 non-null    object\n",
      " 2   Age                     200 non-null    int64 \n",
      " 3   Annual Income (k$)      200 non-null    int64 \n",
      " 4   Spending Score (1-100)  200 non-null    int64 \n",
      "dtypes: int64(4), object(1)\n",
      "memory usage: 7.9+ KB\n"
     ]
    }
   ],
   "source": [
    "df.info()"
   ]
  },
  {
   "cell_type": "markdown",
   "id": "e6d81313",
   "metadata": {},
   "source": [
    "**CHECKING FOR MISSING VALUES**"
   ]
  },
  {
   "cell_type": "code",
   "execution_count": 8,
   "id": "11bcf70f",
   "metadata": {},
   "outputs": [
    {
     "data": {
      "text/html": [
       "<div>\n",
       "<style scoped>\n",
       "    .dataframe tbody tr th:only-of-type {\n",
       "        vertical-align: middle;\n",
       "    }\n",
       "\n",
       "    .dataframe tbody tr th {\n",
       "        vertical-align: top;\n",
       "    }\n",
       "\n",
       "    .dataframe thead th {\n",
       "        text-align: right;\n",
       "    }\n",
       "</style>\n",
       "<table border=\"1\" class=\"dataframe\">\n",
       "  <thead>\n",
       "    <tr style=\"text-align: right;\">\n",
       "      <th></th>\n",
       "      <th>False</th>\n",
       "    </tr>\n",
       "  </thead>\n",
       "  <tbody>\n",
       "    <tr>\n",
       "      <th>CustomerID</th>\n",
       "      <td>200</td>\n",
       "    </tr>\n",
       "    <tr>\n",
       "      <th>Gender</th>\n",
       "      <td>200</td>\n",
       "    </tr>\n",
       "    <tr>\n",
       "      <th>Age</th>\n",
       "      <td>200</td>\n",
       "    </tr>\n",
       "    <tr>\n",
       "      <th>Annual Income (k$)</th>\n",
       "      <td>200</td>\n",
       "    </tr>\n",
       "    <tr>\n",
       "      <th>Spending Score (1-100)</th>\n",
       "      <td>200</td>\n",
       "    </tr>\n",
       "  </tbody>\n",
       "</table>\n",
       "</div>"
      ],
      "text/plain": [
       "                        False\n",
       "CustomerID                200\n",
       "Gender                    200\n",
       "Age                       200\n",
       "Annual Income (k$)        200\n",
       "Spending Score (1-100)    200"
      ]
     },
     "execution_count": 8,
     "metadata": {},
     "output_type": "execute_result"
    }
   ],
   "source": [
    "df.isna().apply(pd.value_counts).T"
   ]
  },
  {
   "cell_type": "markdown",
   "id": "e701b214",
   "metadata": {},
   "source": [
    "### Data Analysing"
   ]
  },
  {
   "cell_type": "markdown",
   "id": "359dfeaf",
   "metadata": {},
   "source": [
    "**SELECTING THE FEATURES TO STANDARDIZE**"
   ]
  },
  {
   "cell_type": "code",
   "execution_count": 9,
   "id": "0db51a5e",
   "metadata": {},
   "outputs": [],
   "source": [
    "df_std=df.drop(['CustomerID'],axis=1)"
   ]
  },
  {
   "cell_type": "code",
   "execution_count": 10,
   "id": "78aa7378",
   "metadata": {},
   "outputs": [
    {
     "data": {
      "text/html": [
       "<div>\n",
       "<style scoped>\n",
       "    .dataframe tbody tr th:only-of-type {\n",
       "        vertical-align: middle;\n",
       "    }\n",
       "\n",
       "    .dataframe tbody tr th {\n",
       "        vertical-align: top;\n",
       "    }\n",
       "\n",
       "    .dataframe thead th {\n",
       "        text-align: right;\n",
       "    }\n",
       "</style>\n",
       "<table border=\"1\" class=\"dataframe\">\n",
       "  <thead>\n",
       "    <tr style=\"text-align: right;\">\n",
       "      <th></th>\n",
       "      <th>Gender</th>\n",
       "      <th>Age</th>\n",
       "      <th>Annual Income (k$)</th>\n",
       "      <th>Spending Score (1-100)</th>\n",
       "    </tr>\n",
       "  </thead>\n",
       "  <tbody>\n",
       "    <tr>\n",
       "      <th>0</th>\n",
       "      <td>Male</td>\n",
       "      <td>19</td>\n",
       "      <td>15</td>\n",
       "      <td>39</td>\n",
       "    </tr>\n",
       "    <tr>\n",
       "      <th>1</th>\n",
       "      <td>Male</td>\n",
       "      <td>21</td>\n",
       "      <td>15</td>\n",
       "      <td>81</td>\n",
       "    </tr>\n",
       "    <tr>\n",
       "      <th>2</th>\n",
       "      <td>Female</td>\n",
       "      <td>20</td>\n",
       "      <td>16</td>\n",
       "      <td>6</td>\n",
       "    </tr>\n",
       "    <tr>\n",
       "      <th>3</th>\n",
       "      <td>Female</td>\n",
       "      <td>23</td>\n",
       "      <td>16</td>\n",
       "      <td>77</td>\n",
       "    </tr>\n",
       "    <tr>\n",
       "      <th>4</th>\n",
       "      <td>Female</td>\n",
       "      <td>31</td>\n",
       "      <td>17</td>\n",
       "      <td>40</td>\n",
       "    </tr>\n",
       "    <tr>\n",
       "      <th>...</th>\n",
       "      <td>...</td>\n",
       "      <td>...</td>\n",
       "      <td>...</td>\n",
       "      <td>...</td>\n",
       "    </tr>\n",
       "    <tr>\n",
       "      <th>195</th>\n",
       "      <td>Female</td>\n",
       "      <td>35</td>\n",
       "      <td>120</td>\n",
       "      <td>79</td>\n",
       "    </tr>\n",
       "    <tr>\n",
       "      <th>196</th>\n",
       "      <td>Female</td>\n",
       "      <td>45</td>\n",
       "      <td>126</td>\n",
       "      <td>28</td>\n",
       "    </tr>\n",
       "    <tr>\n",
       "      <th>197</th>\n",
       "      <td>Male</td>\n",
       "      <td>32</td>\n",
       "      <td>126</td>\n",
       "      <td>74</td>\n",
       "    </tr>\n",
       "    <tr>\n",
       "      <th>198</th>\n",
       "      <td>Male</td>\n",
       "      <td>32</td>\n",
       "      <td>137</td>\n",
       "      <td>18</td>\n",
       "    </tr>\n",
       "    <tr>\n",
       "      <th>199</th>\n",
       "      <td>Male</td>\n",
       "      <td>30</td>\n",
       "      <td>137</td>\n",
       "      <td>83</td>\n",
       "    </tr>\n",
       "  </tbody>\n",
       "</table>\n",
       "<p>200 rows × 4 columns</p>\n",
       "</div>"
      ],
      "text/plain": [
       "     Gender  Age  Annual Income (k$)  Spending Score (1-100)\n",
       "0      Male   19                  15                      39\n",
       "1      Male   21                  15                      81\n",
       "2    Female   20                  16                       6\n",
       "3    Female   23                  16                      77\n",
       "4    Female   31                  17                      40\n",
       "..      ...  ...                 ...                     ...\n",
       "195  Female   35                 120                      79\n",
       "196  Female   45                 126                      28\n",
       "197    Male   32                 126                      74\n",
       "198    Male   32                 137                      18\n",
       "199    Male   30                 137                      83\n",
       "\n",
       "[200 rows x 4 columns]"
      ]
     },
     "execution_count": 10,
     "metadata": {},
     "output_type": "execute_result"
    }
   ],
   "source": [
    "df_std"
   ]
  },
  {
   "cell_type": "markdown",
   "id": "3d7ea69a",
   "metadata": {},
   "source": [
    "**CONVERTING CATEGORICAL FEATURES**"
   ]
  },
  {
   "cell_type": "code",
   "execution_count": 11,
   "id": "be80ad63",
   "metadata": {},
   "outputs": [],
   "source": [
    "le=LabelEncoder()"
   ]
  },
  {
   "cell_type": "code",
   "execution_count": 12,
   "id": "87281307",
   "metadata": {},
   "outputs": [
    {
     "data": {
      "text/plain": [
       "Female    112\n",
       "Male       88\n",
       "Name: Gender, dtype: int64"
      ]
     },
     "execution_count": 12,
     "metadata": {},
     "output_type": "execute_result"
    }
   ],
   "source": [
    "df_std['Gender'].value_counts()"
   ]
  },
  {
   "cell_type": "code",
   "execution_count": 13,
   "id": "5bcffccb",
   "metadata": {},
   "outputs": [],
   "source": [
    "df_std['Gender']=le.fit_transform(df['Gender'])"
   ]
  },
  {
   "cell_type": "code",
   "execution_count": 14,
   "id": "8762e8c0",
   "metadata": {},
   "outputs": [
    {
     "data": {
      "text/plain": [
       "0    112\n",
       "1     88\n",
       "Name: Gender, dtype: int64"
      ]
     },
     "execution_count": 14,
     "metadata": {},
     "output_type": "execute_result"
    }
   ],
   "source": [
    "df_std['Gender'].value_counts()"
   ]
  },
  {
   "cell_type": "markdown",
   "id": "f05da8d0",
   "metadata": {},
   "source": [
    "**STANDARDIZATION**"
   ]
  },
  {
   "cell_type": "code",
   "execution_count": 15,
   "id": "1707fe9d",
   "metadata": {},
   "outputs": [],
   "source": [
    "std=StandardScaler()"
   ]
  },
  {
   "cell_type": "code",
   "execution_count": 16,
   "id": "3c7c5f6b",
   "metadata": {},
   "outputs": [],
   "source": [
    "df_std=std.fit_transform(df_std)"
   ]
  },
  {
   "cell_type": "code",
   "execution_count": 17,
   "id": "57254085",
   "metadata": {},
   "outputs": [],
   "source": [
    "#Choosing Annual Income and Spending Scores\n",
    "\n",
    "X=df.drop(['CustomerID','Gender','Age'],axis=1)\n",
    "X=X.values"
   ]
  },
  {
   "cell_type": "code",
   "execution_count": 18,
   "id": "c703664d",
   "metadata": {},
   "outputs": [
    {
     "name": "stdout",
     "output_type": "stream",
     "text": [
      "[[ 15  39]\n",
      " [ 15  81]\n",
      " [ 16   6]\n",
      " [ 16  77]\n",
      " [ 17  40]\n",
      " [ 17  76]\n",
      " [ 18   6]\n",
      " [ 18  94]\n",
      " [ 19   3]\n",
      " [ 19  72]\n",
      " [ 19  14]\n",
      " [ 19  99]\n",
      " [ 20  15]\n",
      " [ 20  77]\n",
      " [ 20  13]\n",
      " [ 20  79]\n",
      " [ 21  35]\n",
      " [ 21  66]\n",
      " [ 23  29]\n",
      " [ 23  98]\n",
      " [ 24  35]\n",
      " [ 24  73]\n",
      " [ 25   5]\n",
      " [ 25  73]\n",
      " [ 28  14]\n",
      " [ 28  82]\n",
      " [ 28  32]\n",
      " [ 28  61]\n",
      " [ 29  31]\n",
      " [ 29  87]\n",
      " [ 30   4]\n",
      " [ 30  73]\n",
      " [ 33   4]\n",
      " [ 33  92]\n",
      " [ 33  14]\n",
      " [ 33  81]\n",
      " [ 34  17]\n",
      " [ 34  73]\n",
      " [ 37  26]\n",
      " [ 37  75]\n",
      " [ 38  35]\n",
      " [ 38  92]\n",
      " [ 39  36]\n",
      " [ 39  61]\n",
      " [ 39  28]\n",
      " [ 39  65]\n",
      " [ 40  55]\n",
      " [ 40  47]\n",
      " [ 40  42]\n",
      " [ 40  42]\n",
      " [ 42  52]\n",
      " [ 42  60]\n",
      " [ 43  54]\n",
      " [ 43  60]\n",
      " [ 43  45]\n",
      " [ 43  41]\n",
      " [ 44  50]\n",
      " [ 44  46]\n",
      " [ 46  51]\n",
      " [ 46  46]\n",
      " [ 46  56]\n",
      " [ 46  55]\n",
      " [ 47  52]\n",
      " [ 47  59]\n",
      " [ 48  51]\n",
      " [ 48  59]\n",
      " [ 48  50]\n",
      " [ 48  48]\n",
      " [ 48  59]\n",
      " [ 48  47]\n",
      " [ 49  55]\n",
      " [ 49  42]\n",
      " [ 50  49]\n",
      " [ 50  56]\n",
      " [ 54  47]\n",
      " [ 54  54]\n",
      " [ 54  53]\n",
      " [ 54  48]\n",
      " [ 54  52]\n",
      " [ 54  42]\n",
      " [ 54  51]\n",
      " [ 54  55]\n",
      " [ 54  41]\n",
      " [ 54  44]\n",
      " [ 54  57]\n",
      " [ 54  46]\n",
      " [ 57  58]\n",
      " [ 57  55]\n",
      " [ 58  60]\n",
      " [ 58  46]\n",
      " [ 59  55]\n",
      " [ 59  41]\n",
      " [ 60  49]\n",
      " [ 60  40]\n",
      " [ 60  42]\n",
      " [ 60  52]\n",
      " [ 60  47]\n",
      " [ 60  50]\n",
      " [ 61  42]\n",
      " [ 61  49]\n",
      " [ 62  41]\n",
      " [ 62  48]\n",
      " [ 62  59]\n",
      " [ 62  55]\n",
      " [ 62  56]\n",
      " [ 62  42]\n",
      " [ 63  50]\n",
      " [ 63  46]\n",
      " [ 63  43]\n",
      " [ 63  48]\n",
      " [ 63  52]\n",
      " [ 63  54]\n",
      " [ 64  42]\n",
      " [ 64  46]\n",
      " [ 65  48]\n",
      " [ 65  50]\n",
      " [ 65  43]\n",
      " [ 65  59]\n",
      " [ 67  43]\n",
      " [ 67  57]\n",
      " [ 67  56]\n",
      " [ 67  40]\n",
      " [ 69  58]\n",
      " [ 69  91]\n",
      " [ 70  29]\n",
      " [ 70  77]\n",
      " [ 71  35]\n",
      " [ 71  95]\n",
      " [ 71  11]\n",
      " [ 71  75]\n",
      " [ 71   9]\n",
      " [ 71  75]\n",
      " [ 72  34]\n",
      " [ 72  71]\n",
      " [ 73   5]\n",
      " [ 73  88]\n",
      " [ 73   7]\n",
      " [ 73  73]\n",
      " [ 74  10]\n",
      " [ 74  72]\n",
      " [ 75   5]\n",
      " [ 75  93]\n",
      " [ 76  40]\n",
      " [ 76  87]\n",
      " [ 77  12]\n",
      " [ 77  97]\n",
      " [ 77  36]\n",
      " [ 77  74]\n",
      " [ 78  22]\n",
      " [ 78  90]\n",
      " [ 78  17]\n",
      " [ 78  88]\n",
      " [ 78  20]\n",
      " [ 78  76]\n",
      " [ 78  16]\n",
      " [ 78  89]\n",
      " [ 78   1]\n",
      " [ 78  78]\n",
      " [ 78   1]\n",
      " [ 78  73]\n",
      " [ 79  35]\n",
      " [ 79  83]\n",
      " [ 81   5]\n",
      " [ 81  93]\n",
      " [ 85  26]\n",
      " [ 85  75]\n",
      " [ 86  20]\n",
      " [ 86  95]\n",
      " [ 87  27]\n",
      " [ 87  63]\n",
      " [ 87  13]\n",
      " [ 87  75]\n",
      " [ 87  10]\n",
      " [ 87  92]\n",
      " [ 88  13]\n",
      " [ 88  86]\n",
      " [ 88  15]\n",
      " [ 88  69]\n",
      " [ 93  14]\n",
      " [ 93  90]\n",
      " [ 97  32]\n",
      " [ 97  86]\n",
      " [ 98  15]\n",
      " [ 98  88]\n",
      " [ 99  39]\n",
      " [ 99  97]\n",
      " [101  24]\n",
      " [101  68]\n",
      " [103  17]\n",
      " [103  85]\n",
      " [103  23]\n",
      " [103  69]\n",
      " [113   8]\n",
      " [113  91]\n",
      " [120  16]\n",
      " [120  79]\n",
      " [126  28]\n",
      " [126  74]\n",
      " [137  18]\n",
      " [137  83]]\n"
     ]
    }
   ],
   "source": [
    "print(X)"
   ]
  },
  {
   "cell_type": "markdown",
   "id": "6277884e",
   "metadata": {},
   "source": [
    "### KMEANS CLUSTERING\n",
    "\n",
    "**CHOOSING CORRECT VALUE OF *K* USING ELBOW METHOD**"
   ]
  },
  {
   "cell_type": "code",
   "execution_count": 19,
   "id": "665e322e",
   "metadata": {},
   "outputs": [],
   "source": [
    "wss=[]\n",
    "cluster_list=list(range(1,11))\n",
    "for x in cluster_list:\n",
    "    kmeans=KMeans(n_clusters=x,init='k-means++',max_iter=300,n_init=10,random_state=42)\n",
    "    kmeans.fit(X)\n",
    "    wss.append(kmeans.inertia_)"
   ]
  },
  {
   "cell_type": "markdown",
   "id": "4e48cbd8",
   "metadata": {},
   "source": [
    "**Plotting the elbow graph**"
   ]
  },
  {
   "cell_type": "code",
   "execution_count": 20,
   "id": "e0c567aa",
   "metadata": {},
   "outputs": [
    {
     "data": {
      "image/png": "[encoded data removed]",
      "text/plain": [
       "<Figure size 432x288 with 1 Axes>"
      ]
     },
     "metadata": {
      "needs_background": "light"
     },
     "output_type": "display_data"
    }
   ],
   "source": [
    "plt.plot(cluster_list,wss)\n",
    "plt.title('Choosing K value using Elbow Method',fontsize=15)\n",
    "plt.xlabel('Number of Clusters')\n",
    "plt.ylabel('WSS')\n",
    "plt.show()"
   ]
  },
  {
   "cell_type": "markdown",
   "id": "d9d63e01",
   "metadata": {},
   "source": [
    "Optimun number of Cluster is 5"
   ]
  },
  {
   "cell_type": "code",
   "execution_count": 21,
   "id": "f91fbc58",
   "metadata": {},
   "outputs": [
    {
     "name": "stdout",
     "output_type": "stream",
     "text": [
      "[4 3 4 3 4 3 4 3 4 3 4 3 4 3 4 3 4 3 4 3 4 3 4 3 4 3 4 3 4 3 4 3 4 3 4 3 4\n",
      " 3 4 3 4 3 4 1 4 3 1 1 1 1 1 1 1 1 1 1 1 1 1 1 1 1 1 1 1 1 1 1 1 1 1 1 1 1\n",
      " 1 1 1 1 1 1 1 1 1 1 1 1 1 1 1 1 1 1 1 1 1 1 1 1 1 1 1 1 1 1 1 1 1 1 1 1 1\n",
      " 1 1 1 1 1 1 1 1 1 1 1 1 2 0 2 1 2 0 2 0 2 1 2 0 2 0 2 0 2 0 2 1 2 0 2 0 2\n",
      " 0 2 0 2 0 2 0 2 0 2 0 2 0 2 0 2 0 2 0 2 0 2 0 2 0 2 0 2 0 2 0 2 0 2 0 2 0\n",
      " 2 0 2 0 2 0 2 0 2 0 2 0 2 0 2]\n"
     ]
    }
   ],
   "source": [
    "kmeans=KMeans(n_clusters=5,init='k-means++',random_state=0)\n",
    "\n",
    "Y=kmeans.fit_predict(X)\n",
    "print(Y)"
   ]
  },
  {
   "cell_type": "markdown",
   "id": "01da0d1d",
   "metadata": {},
   "source": [
    "**PLOTTING ALL THE CLUSTERS AND THEIR CENTROID**"
   ]
  },
  {
   "cell_type": "code",
   "execution_count": 22,
   "id": "01e87b65",
   "metadata": {
    "scrolled": true
   },
   "outputs": [
    {
     "data": {
      "image/png": "[encoded data removed]",
      "text/plain": [
       "<Figure size 360x360 with 1 Axes>"
      ]
     },
     "metadata": {
      "needs_background": "light"
     },
     "output_type": "display_data"
    }
   ],
   "source": [
    "plt.figure(figsize=(5,5))\n",
    "c1=plt.scatter(X[Y==0,0], X[Y==0,1], s=50, c='blue')\n",
    "c2=plt.scatter(X[Y==1,0], X[Y==1,1], s=50, c='red')\n",
    "c3=plt.scatter(X[Y==2,0], X[Y==2,1], s=50, c='yellow')\n",
    "c4=plt.scatter(X[Y==3,0], X[Y==3,1], s=50, c='green')\n",
    "c5=plt.scatter(X[Y==4,0], X[Y==4,1], s=50, c='purple')\n",
    "cen=plt.scatter(kmeans.cluster_centers_[:,0], kmeans.cluster_centers_[:,1], s=100, c='black')\n",
    "plt.legend([c1,c2,c3,c4,c5,cen],['Cluster 1','Cluster 2','Cluster 3','Cluster 4','Cluster 5','Centroid'])\n",
    "plt.title('Customers Group')\n",
    "plt.xlabel('Annual Income')\n",
    "plt.ylabel('Spending Score')\n",
    "plt.show()\n"
   ]
  },
  {
   "cell_type": "code",
   "execution_count": 23,
   "id": "3fe349fb",
   "metadata": {},
   "outputs": [],
   "source": [
    "#plt.scatter(X[:, 0], X[:, 1], c=Y, cmap=\"viridis\")"
   ]
  },
  {
   "cell_type": "markdown",
   "id": "2ad07e61",
   "metadata": {},
   "source": [
    "**Conclusion drawn from graph:**\n",
    "\n",
    "* **Cluster 1 (Blue)**:\n",
    "This Group of customer has high Annual Income and Expenses are low.\n",
    "\n",
    "* **Cluster 2 (Red)**:\n",
    "This Group of customer has average Annual Income and average Expenses.\n",
    "\n",
    "* **Cluster 2 (Yellow)**:\n",
    "This Group of customers has high Annual Income and high Expenses.\n",
    "\n",
    "* **Cluster 2 (Green)**:\n",
    "This Group of customers has low Annual Income but high Expenses.\n",
    "\n",
    "* **Cluster 2 (Purple)**:\n",
    "This Group of customers has low Annual Income and low Expenses.\n"
   ]
  },
  {
   "cell_type": "markdown",
   "id": "f95e67ae",
   "metadata": {},
   "source": [
    "### HIERARCHICAL AGGLOMERATIVE CLUSTERING"
   ]
  },
  {
   "cell_type": "code",
   "execution_count": 24,
   "id": "9f0045d2",
   "metadata": {},
   "outputs": [],
   "source": [
    "agg=AgglomerativeClustering(n_clusters=5)"
   ]
  },
  {
   "cell_type": "code",
   "execution_count": 25,
   "id": "20ed400a",
   "metadata": {},
   "outputs": [
    {
     "name": "stdout",
     "output_type": "stream",
     "text": [
      "[4 3 4 3 4 3 4 3 4 3 4 3 4 3 4 3 4 3 4 3 4 3 4 3 4 3 4 3 4 3 4 3 4 3 4 3 4\n",
      " 3 4 3 4 3 4 1 4 1 1 1 1 1 1 1 1 1 1 1 1 1 1 1 1 1 1 1 1 1 1 1 1 1 1 1 1 1\n",
      " 1 1 1 1 1 1 1 1 1 1 1 1 1 1 1 1 1 1 1 1 1 1 1 1 1 1 1 1 1 1 1 1 1 1 1 1 1\n",
      " 1 1 1 1 1 1 1 1 1 1 1 1 2 1 2 1 2 0 2 0 2 1 2 0 2 0 2 0 2 0 2 1 2 0 2 1 2\n",
      " 0 2 0 2 0 2 0 2 0 2 0 2 1 2 0 2 0 2 0 2 0 2 0 2 0 2 0 2 0 2 0 2 0 2 0 2 0\n",
      " 2 0 2 0 2 0 2 0 2 0 2 0 2 0 2]\n"
     ]
    }
   ],
   "source": [
    "Y1=agg.fit_predict(X)\n",
    "print(Y1)"
   ]
  },
  {
   "cell_type": "code",
   "execution_count": 26,
   "id": "93fe5b63",
   "metadata": {},
   "outputs": [
    {
     "data": {
      "image/png": "[encoded data removed]",
      "text/plain": [
       "<Figure size 360x360 with 1 Axes>"
      ]
     },
     "metadata": {
      "needs_background": "light"
     },
     "output_type": "display_data"
    }
   ],
   "source": [
    "clusters = unique(Y1)\n",
    "plt.figure(figsize=(5,5))\n",
    "for cluster in clusters:\n",
    "    row_ix = where(Y1 == cluster)\n",
    "    plt.scatter(X[row_ix, 0], X[row_ix, 1])\n",
    "plt.title('Customers Group')\n",
    "plt.xlabel('Annual Income')\n",
    "plt.ylabel('Spending Score')\n",
    "plt.show()"
   ]
  },
  {
   "cell_type": "markdown",
   "id": "b935e4ca",
   "metadata": {},
   "source": [
    "### DENSITY BASED SPATIAL CLUSTERING OF APPLICATIONS WITH NOISE (DBSCAN)"
   ]
  },
  {
   "cell_type": "code",
   "execution_count": 27,
   "id": "fe142719",
   "metadata": {},
   "outputs": [
    {
     "data": {
      "image/png": "[encoded data removed]",
      "text/plain": [
       "<Figure size 360x360 with 1 Axes>"
      ]
     },
     "metadata": {
      "needs_background": "light"
     },
     "output_type": "display_data"
    }
   ],
   "source": [
    "\n",
    "db=DBSCAN(eps=9,min_samples=5)\n",
    "db=db.fit_predict(X)\n",
    "plt.figure(figsize=(5,5))\n",
    "plt.scatter(X[:, 0], X[:, 1], c=db, cmap=\"viridis\")\n",
    "plt.title('Customers Group')\n",
    "plt.xlabel('Annual Income')\n",
    "plt.ylabel('Spending Score')\n",
    "plt.show()"
   ]
  },
  {
   "cell_type": "markdown",
   "id": "bc7dc783",
   "metadata": {},
   "source": [
    "### MINI-BATCH KMEANS \n"
   ]
  },
  {
   "cell_type": "code",
   "execution_count": 28,
   "id": "1c9d96a8",
   "metadata": {},
   "outputs": [
    {
     "data": {
      "image/png": "[encoded data removed]",
      "text/plain": [
       "<Figure size 360x360 with 1 Axes>"
      ]
     },
     "metadata": {
      "needs_background": "light"
     },
     "output_type": "display_data"
    }
   ],
   "source": [
    "minik=MiniBatchKMeans(n_clusters=5)\n",
    "minik=minik.fit_predict(X)\n",
    "plt.figure(figsize=(5,5))\n",
    "plt.scatter(X[:, 0], X[:, 1], c=minik, cmap=\"viridis\")\n",
    "plt.title('Customers Group')\n",
    "plt.xlabel('Annual Income')\n",
    "plt.ylabel('Spending Score')\n",
    "plt.show()"
   ]
  },
  {
   "cell_type": "markdown",
   "id": "12b9a1ba",
   "metadata": {},
   "source": [
    "### MEAN SHIFT"
   ]
  },
  {
   "cell_type": "code",
   "execution_count": 29,
   "id": "e75a076d",
   "metadata": {},
   "outputs": [
    {
     "data": {
      "image/png": "[encoded data removed]",
      "text/plain": [
       "<Figure size 360x360 with 1 Axes>"
      ]
     },
     "metadata": {
      "needs_background": "light"
     },
     "output_type": "display_data"
    }
   ],
   "source": [
    "ms=MeanShift(bandwidth=1)\n",
    "ms=ms.fit_predict(X)\n",
    "plt.figure(figsize=(5,5))\n",
    "plt.scatter(X[:, 0], X[:, 1], c=ms, cmap=\"viridis\")\n",
    "plt.title('Customers Group')\n",
    "plt.xlabel('Annual Income')\n",
    "plt.ylabel('Spending Score')\n",
    "plt.show()"
   ]
  },
  {
   "cell_type": "markdown",
   "id": "1c8c6136",
   "metadata": {},
   "source": [
    "### CONCLUSION:\n",
    "\n",
    "Clustering is an unsupervised problem of finding natural groups in the feature space of input data. There are many different clustering algorithms, and no single best method for all datasets. \n",
    "\n",
    "In this case, reasonable grouping was found using **KMeans**. However, **MiniBatchKMeans** gave equivalent result to that of standard KMeans.\n",
    "\n",
    "**Hierarchical Agglomerative Clustering** gave somewhat similar result to KMeans.\n",
    "\n",
    "**DBSCAN** does not give proper grouping in this case and some tuning is required.\n",
    "\n",
    "Using **Mean Shift**, could not achieve a reasonable result on this dataset."
   ]
  }
 ],
 "metadata": {
  "kernelspec": {
   "display_name": "Python 3",
   "language": "python",
   "name": "python3"
  },
  "language_info": {
   "codemirror_mode": {
    "name": "ipython",
    "version": 3
   },
   "file_extension": ".py",
   "mimetype": "text/x-python",
   "name": "python",
   "nbconvert_exporter": "python",
   "pygments_lexer": "ipython3",
   "version": "3.8.8"
  }
 },
 "nbformat": 4,
 "nbformat_minor": 5
}
